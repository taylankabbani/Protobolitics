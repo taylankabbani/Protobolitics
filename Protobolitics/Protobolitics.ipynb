{
 "cells": [
  {
   "cell_type": "markdown",
   "metadata": {},
   "source": [
    "# Protibolitics"
   ]
  },
  {
   "cell_type": "code",
   "execution_count": 28,
   "metadata": {},
   "outputs": [],
   "source": [
    "# Translation boolean relations among gene reation rule (This class if from Genobolitics)\n",
    "class FoldChange:\n",
    "    def __init__(self, fold_change):\n",
    "        self.fold_change = fold_change\n",
    "\n",
    "    # OR IS MAX, MAX IS PLUS, THUS OR IS PLUS\n",
    "    def __add__(self, other):\n",
    "        return FoldChange(FoldChange.max_with_missing_values(self.fold_change, other.fold_change))\n",
    "\n",
    "    # AND IS MIN, MIN IS MINUS, THUS AND IS MINUS\n",
    "    def __sub__(self, other):\n",
    "        return FoldChange(FoldChange.min_with_missing_values(self.fold_change, other.fold_change))\n",
    "\n",
    "    @staticmethod\n",
    "    def max_with_missing_values(*args):\n",
    "        return max(FoldChange.replace_missing(*args, replace_with=-math.inf))\n",
    "\n",
    "    @staticmethod\n",
    "    def min_with_missing_values(*args):\n",
    "        return min(FoldChange.replace_missing(*args, replace_with=math.inf))\n",
    "\n",
    "    @staticmethod\n",
    "    def replace_missing(*args, replace_with):\n",
    "        replaced = [replace_with if o is None else o for o in args]\n",
    "        if not all(args):\n",
    "            warnings.warn('some operands are missing from logical expression!')\n",
    "        return replaced"
   ]
  },
  {
   "cell_type": "code",
   "execution_count": 29,
   "metadata": {},
   "outputs": [],
   "source": [
    "class Protibolitics(MetaboliticsAnalysis):\n",
    "    def __init__(self, *args, **kwargs):\n",
    "        super(Protibolitics, self).__init__(*args, **kwargs)  # inheriting from MetaboliticsAnalysis\n",
    "        self.model.solver = kwargs.get('solver', 'glpk')   # Set glpk as the linear solver\n",
    "        \n",
    "    def set_objective(self, Protein_measures):           # The new objective based on protein measures\n",
    "        \n",
    "        self.clean_objective()                           # Clean the current objective\n",
    "        \n",
    "        for rx in self.model.reactions:\n",
    "            fold_change = self.sample_reaction_fold_change(rx, Protein_measures)\n",
    "            # Objective is 0 if fold change is inf or empty string\n",
    "            if fold_change in {math.inf, -math.inf, None}:\n",
    "                rx.objective_coefficient = 0.0\n",
    "                warnings.warn('objective-coeff is set to ZERO!')\n",
    "            else:\n",
    "                rx.objective_coefficient = fold_change\n",
    "\n",
    "    \n",
    "    def sample_reaction_fold_change(self, rx, Protein_measures):\n",
    "        map_list = [('or', '+'),('and', '-')] \n",
    "        # list to use with replace function\n",
    "        for gene in rx.genes:\n",
    "            map_list.append((gene.id, 'FoldChange({})'.format(Protein_measures.get(gene.id, 'None'))))\n",
    "            \n",
    "        boolean_relation = reduce(lambda x, y: x.replace(*y), map_list, rx.gene_reaction_rule)\n",
    "\n",
    "        fold_change = None\n",
    "        if boolean_relation:\n",
    "            fold_change = eval(boolean_relation).fold_change\n",
    "        else:\n",
    "            # empty\n",
    "            warnings.warn('reaction rule is empty!')\n",
    " \n",
    "\n",
    "        return fold_change\n",
    "        \n",
    "        \n",
    "        \n",
    "def flux_variance_analysis(X, y):\n",
    "    Protibolitics_transformer = MetaboliticsTransformer()\n",
    "    Protibolitics_transformer.analyzer = Protibolitics(\"recon2\")\n",
    "    Protibolitics_transformer.n_jobs = 1\n",
    "\n",
    "    pipeline = Pipeline([('scaling', FoldChangeScaler(reference_label='healthy')),\n",
    "                         ('LP_FVA', Protibolitics_transformer)])\n",
    "\n",
    "    return pipeline.fit_transform(X, y)"
   ]
  },
  {
   "cell_type": "code",
   "execution_count": null,
   "metadata": {
    "scrolled": true
   },
   "outputs": [],
   "source": [
    "y = labels[0:40]\n",
    "x = Protein_measures[0:40]\n",
    "rx_boundaries = flux_variance_analysis(x, y)"
   ]
  },
  {
   "cell_type": "markdown",
   "metadata": {},
   "source": [
    "### Saving reaction boundaries since it's computationally expensive "
   ]
  },
  {
   "cell_type": "code",
   "execution_count": null,
   "metadata": {},
   "outputs": [],
   "source": [
    "def save_file(data, file_name):\n",
    "    file = open(file_name, 'wb')\n",
    "    pickle.dump(data, file)\n",
    "    file.close()\n",
    "\n",
    "save_file(rx_boundaries, 'rx_boundaries_file')\n",
    "save_file(y, 'labels')"
   ]
  },
  {
   "cell_type": "code",
   "execution_count": 30,
   "metadata": {},
   "outputs": [],
   "source": [
    "# loading computed boundaries and labels\n",
    "def open_file(file_name):\n",
    "    file = open(file_name, 'rb')\n",
    "    data = pickle.load(file)\n",
    "    file.close()\n",
    "    return data\n",
    "\n",
    "rx_boundaries = open_file(\"rx_boundaries_file\")\n",
    "y = open_file(\"labels\")"
   ]
  },
  {
   "cell_type": "markdown",
   "metadata": {},
   "source": [
    "# Pathway level diff scores"
   ]
  },
  {
   "cell_type": "markdown",
   "metadata": {},
   "source": [
    "reaction-diff: converts min-max values to diff score by computing the avg.\n",
    "\n",
    "pathway-scoring: converts reaction diff scores into pathway diff scores (#100 pathway)\n",
    "\n",
    "transport-elimination: eliminates transport pathway in final dataset."
   ]
  },
  {
   "cell_type": "code",
   "execution_count": 31,
   "metadata": {},
   "outputs": [
    {
     "data": {
      "text/plain": [
       "91"
      ]
     },
     "execution_count": 31,
     "metadata": {},
     "output_type": "execute_result"
    }
   ],
   "source": [
    "diff_pipe= MetaboliticsPipeline(['reaction-diff', 'pathway-transformer','transport-pathway-elimination'])\n",
    "pathway_scores = diff_pipe.fit_transform(rx_boundaries, y)\n",
    "len(pathway_scores[0])"
   ]
  },
  {
   "cell_type": "markdown",
   "metadata": {},
   "source": [
    "# Statistical Signifcance Analysis and most significant Pathways"
   ]
  },
  {
   "cell_type": "markdown",
   "metadata": {},
   "source": [
    " feature-selection:feature selection select significant reactions."
   ]
  },
  {
   "cell_type": "code",
   "execution_count": 39,
   "metadata": {},
   "outputs": [
    {
     "data": {
      "text/html": [
       "<div>\n",
       "<style scoped>\n",
       "    .dataframe tbody tr th:only-of-type {\n",
       "        vertical-align: middle;\n",
       "    }\n",
       "\n",
       "    .dataframe tbody tr th {\n",
       "        vertical-align: top;\n",
       "    }\n",
       "\n",
       "    .dataframe thead th {\n",
       "        text-align: right;\n",
       "    }\n",
       "</style>\n",
       "<table border=\"1\" class=\"dataframe\">\n",
       "  <thead>\n",
       "    <tr style=\"text-align: right;\">\n",
       "      <th>labels</th>\n",
       "      <th>healthy</th>\n",
       "      <th>unhealthy</th>\n",
       "      <th>F</th>\n",
       "      <th>pval</th>\n",
       "    </tr>\n",
       "  </thead>\n",
       "  <tbody>\n",
       "    <tr>\n",
       "      <td>ROS detoxification</td>\n",
       "      <td>9.473903e-15</td>\n",
       "      <td>485.079023</td>\n",
       "      <td>6.244130</td>\n",
       "      <td>0.070968</td>\n",
       "    </tr>\n",
       "    <tr>\n",
       "      <td>Valine, leucine, and isoleucine metabolism</td>\n",
       "      <td>-9.473903e-15</td>\n",
       "      <td>677.942334</td>\n",
       "      <td>6.237066</td>\n",
       "      <td>0.070968</td>\n",
       "    </tr>\n",
       "    <tr>\n",
       "      <td>Starch and sucrose metabolism</td>\n",
       "      <td>-2.368476e-15</td>\n",
       "      <td>-28.580760</td>\n",
       "      <td>6.490742</td>\n",
       "      <td>0.070968</td>\n",
       "    </tr>\n",
       "    <tr>\n",
       "      <td>Miscellaneous</td>\n",
       "      <td>5.684342e-14</td>\n",
       "      <td>-729.163122</td>\n",
       "      <td>7.921524</td>\n",
       "      <td>0.070968</td>\n",
       "    </tr>\n",
       "    <tr>\n",
       "      <td>Glycolysis/gluconeogenesis</td>\n",
       "      <td>-4.736952e-15</td>\n",
       "      <td>1013.738437</td>\n",
       "      <td>5.557322</td>\n",
       "      <td>0.070968</td>\n",
       "    </tr>\n",
       "    <tr>\n",
       "      <td>Folate metabolism</td>\n",
       "      <td>-2.368476e-14</td>\n",
       "      <td>648.806282</td>\n",
       "      <td>5.909265</td>\n",
       "      <td>0.070968</td>\n",
       "    </tr>\n",
       "    <tr>\n",
       "      <td>Pyruvate metabolism</td>\n",
       "      <td>1.136868e-13</td>\n",
       "      <td>-488.259467</td>\n",
       "      <td>5.622156</td>\n",
       "      <td>0.070968</td>\n",
       "    </tr>\n",
       "    <tr>\n",
       "      <td>Glycine, serine, alanine and threonine metabolism</td>\n",
       "      <td>5.684342e-14</td>\n",
       "      <td>-684.004885</td>\n",
       "      <td>4.927469</td>\n",
       "      <td>0.078436</td>\n",
       "    </tr>\n",
       "    <tr>\n",
       "      <td>Citric acid cycle</td>\n",
       "      <td>-3.789561e-14</td>\n",
       "      <td>-130.119126</td>\n",
       "      <td>4.859909</td>\n",
       "      <td>0.078436</td>\n",
       "    </tr>\n",
       "    <tr>\n",
       "      <td>Pyrimidine synthesis</td>\n",
       "      <td>1.326346e-13</td>\n",
       "      <td>-836.301530</td>\n",
       "      <td>4.608427</td>\n",
       "      <td>0.078623</td>\n",
       "    </tr>\n",
       "    <tr>\n",
       "      <td>Fructose and mannose metabolism</td>\n",
       "      <td>-4.736952e-15</td>\n",
       "      <td>-153.844608</td>\n",
       "      <td>4.300545</td>\n",
       "      <td>0.078623</td>\n",
       "    </tr>\n",
       "    <tr>\n",
       "      <td>Pentose phosphate pathway</td>\n",
       "      <td>0.000000e+00</td>\n",
       "      <td>585.375008</td>\n",
       "      <td>4.413683</td>\n",
       "      <td>0.078623</td>\n",
       "    </tr>\n",
       "    <tr>\n",
       "      <td>Propanoate metabolism</td>\n",
       "      <td>-5.684342e-14</td>\n",
       "      <td>1106.530119</td>\n",
       "      <td>4.000733</td>\n",
       "      <td>0.082530</td>\n",
       "    </tr>\n",
       "    <tr>\n",
       "      <td>Vitamin B2 metabolism</td>\n",
       "      <td>6.631732e-14</td>\n",
       "      <td>369.444295</td>\n",
       "      <td>3.919017</td>\n",
       "      <td>0.082530</td>\n",
       "    </tr>\n",
       "    <tr>\n",
       "      <td>Pyrimidine catabolism</td>\n",
       "      <td>-1.894781e-14</td>\n",
       "      <td>-426.937399</td>\n",
       "      <td>3.769613</td>\n",
       "      <td>0.083487</td>\n",
       "    </tr>\n",
       "    <tr>\n",
       "      <td>Tryptophan metabolism</td>\n",
       "      <td>-2.842171e-14</td>\n",
       "      <td>445.124705</td>\n",
       "      <td>3.616429</td>\n",
       "      <td>0.085067</td>\n",
       "    </tr>\n",
       "    <tr>\n",
       "      <td>Purine catabolism</td>\n",
       "      <td>5.921189e-15</td>\n",
       "      <td>284.346747</td>\n",
       "      <td>2.667895</td>\n",
       "      <td>0.136687</td>\n",
       "    </tr>\n",
       "    <tr>\n",
       "      <td>Alanine and aspartate metabolism</td>\n",
       "      <td>-2.842171e-14</td>\n",
       "      <td>-352.521343</td>\n",
       "      <td>1.100432</td>\n",
       "      <td>0.350931</td>\n",
       "    </tr>\n",
       "    <tr>\n",
       "      <td>Nucleotide interconversion</td>\n",
       "      <td>-5.684342e-14</td>\n",
       "      <td>125.415452</td>\n",
       "      <td>0.871734</td>\n",
       "      <td>0.393883</td>\n",
       "    </tr>\n",
       "    <tr>\n",
       "      <td>Glutathione metabolism</td>\n",
       "      <td>-3.493502e-14</td>\n",
       "      <td>-11.708349</td>\n",
       "      <td>0.033606</td>\n",
       "      <td>0.855522</td>\n",
       "    </tr>\n",
       "    <tr>\n",
       "      <td>Fatty acid oxidation</td>\n",
       "      <td>1.184238e-15</td>\n",
       "      <td>-5.470504</td>\n",
       "      <td>0.039432</td>\n",
       "      <td>0.855522</td>\n",
       "    </tr>\n",
       "  </tbody>\n",
       "</table>\n",
       "</div>"
      ],
      "text/plain": [
       "labels                                                  healthy    unhealthy  \\\n",
       "ROS detoxification                                 9.473903e-15   485.079023   \n",
       "Valine, leucine, and isoleucine metabolism        -9.473903e-15   677.942334   \n",
       "Starch and sucrose metabolism                     -2.368476e-15   -28.580760   \n",
       "Miscellaneous                                      5.684342e-14  -729.163122   \n",
       "Glycolysis/gluconeogenesis                        -4.736952e-15  1013.738437   \n",
       "Folate metabolism                                 -2.368476e-14   648.806282   \n",
       "Pyruvate metabolism                                1.136868e-13  -488.259467   \n",
       "Glycine, serine, alanine and threonine metabolism  5.684342e-14  -684.004885   \n",
       "Citric acid cycle                                 -3.789561e-14  -130.119126   \n",
       "Pyrimidine synthesis                               1.326346e-13  -836.301530   \n",
       "Fructose and mannose metabolism                   -4.736952e-15  -153.844608   \n",
       "Pentose phosphate pathway                          0.000000e+00   585.375008   \n",
       "Propanoate metabolism                             -5.684342e-14  1106.530119   \n",
       "Vitamin B2 metabolism                              6.631732e-14   369.444295   \n",
       "Pyrimidine catabolism                             -1.894781e-14  -426.937399   \n",
       "Tryptophan metabolism                             -2.842171e-14   445.124705   \n",
       "Purine catabolism                                  5.921189e-15   284.346747   \n",
       "Alanine and aspartate metabolism                  -2.842171e-14  -352.521343   \n",
       "Nucleotide interconversion                        -5.684342e-14   125.415452   \n",
       "Glutathione metabolism                            -3.493502e-14   -11.708349   \n",
       "Fatty acid oxidation                               1.184238e-15    -5.470504   \n",
       "\n",
       "labels                                                    F      pval  \n",
       "ROS detoxification                                 6.244130  0.070968  \n",
       "Valine, leucine, and isoleucine metabolism         6.237066  0.070968  \n",
       "Starch and sucrose metabolism                      6.490742  0.070968  \n",
       "Miscellaneous                                      7.921524  0.070968  \n",
       "Glycolysis/gluconeogenesis                         5.557322  0.070968  \n",
       "Folate metabolism                                  5.909265  0.070968  \n",
       "Pyruvate metabolism                                5.622156  0.070968  \n",
       "Glycine, serine, alanine and threonine metabolism  4.927469  0.078436  \n",
       "Citric acid cycle                                  4.859909  0.078436  \n",
       "Pyrimidine synthesis                               4.608427  0.078623  \n",
       "Fructose and mannose metabolism                    4.300545  0.078623  \n",
       "Pentose phosphate pathway                          4.413683  0.078623  \n",
       "Propanoate metabolism                              4.000733  0.082530  \n",
       "Vitamin B2 metabolism                              3.919017  0.082530  \n",
       "Pyrimidine catabolism                              3.769613  0.083487  \n",
       "Tryptophan metabolism                              3.616429  0.085067  \n",
       "Purine catabolism                                  2.667895  0.136687  \n",
       "Alanine and aspartate metabolism                   1.100432  0.350931  \n",
       "Nucleotide interconversion                         0.871734  0.393883  \n",
       "Glutathione metabolism                             0.033606  0.855522  \n",
       "Fatty acid oxidation                               0.039432  0.855522  "
      ]
     },
     "execution_count": 39,
     "metadata": {},
     "output_type": "execute_result"
    }
   ],
   "source": [
    "diff_fs_pipe = MetaboliticsPipeline(['reaction-diff', 'feature-selection', 'pathway-transformer', 'transport-pathway-elimination'])\n",
    "\n",
    "pathways_scores_fs = diff_fs_pipe.fit_transform(rx_boundaries, y)\n",
    "\n",
    "# ANOVA\n",
    "df_selected_pathways = feature_importance_report(pathways_scores_fs, y)\n",
    "df_selected_pathways"
   ]
  },
  {
   "cell_type": "markdown",
   "metadata": {},
   "source": [
    "# Heatmap"
   ]
  },
  {
   "cell_type": "code",
   "execution_count": 33,
   "metadata": {},
   "outputs": [
    {
     "data": {
      "text/plain": [
       "<seaborn.matrix.ClusterGrid at 0x19d8a87aa88>"
      ]
     },
     "execution_count": 33,
     "metadata": {},
     "output_type": "execute_result"
    },
    {
     "data": {
      "image/png": "[encoded data removed]",
      "text/plain": [
       "<Figure size 1584x1584 with 5 Axes>"
      ]
     },
     "metadata": {},
     "output_type": "display_data"
    }
   ],
   "source": [
    "plot_heatmap(pathways_scores_fs, y)"
   ]
  },
  {
   "cell_type": "markdown",
   "metadata": {},
   "source": [
    "# Machine-Learning-based Classification"
   ]
  },
  {
   "cell_type": "code",
   "execution_count": 35,
   "metadata": {},
   "outputs": [],
   "source": [
    "s_cv = StratifiedKFold(n_splits=10, random_state=43)"
   ]
  },
  {
   "cell_type": "markdown",
   "metadata": {},
   "source": [
    "### Logistic Logistic Regression"
   ]
  },
  {
   "cell_type": "code",
   "execution_count": 37,
   "metadata": {},
   "outputs": [
    {
     "name": "stderr",
     "output_type": "stream",
     "text": [
      "C:\\Users\\taylankabbani2019\\AppData\\Local\\Continuum\\anaconda3\\lib\\site-packages\\sklearn\\linear_model\\logistic.py:432 FutureWarning: Default solver will be changed to 'lbfgs' in 0.22. Specify a solver to silence this warning.\n",
      "C:\\Users\\taylankabbani2019\\AppData\\Local\\Continuum\\anaconda3\\lib\\site-packages\\sklearn\\linear_model\\logistic.py:432 FutureWarning: Default solver will be changed to 'lbfgs' in 0.22. Specify a solver to silence this warning.\n",
      "C:\\Users\\taylankabbani2019\\AppData\\Local\\Continuum\\anaconda3\\lib\\site-packages\\sklearn\\linear_model\\logistic.py:432 FutureWarning: Default solver will be changed to 'lbfgs' in 0.22. Specify a solver to silence this warning.\n",
      "C:\\Users\\taylankabbani2019\\AppData\\Local\\Continuum\\anaconda3\\lib\\site-packages\\sklearn\\linear_model\\logistic.py:432 FutureWarning: Default solver will be changed to 'lbfgs' in 0.22. Specify a solver to silence this warning.\n",
      "C:\\Users\\taylankabbani2019\\AppData\\Local\\Continuum\\anaconda3\\lib\\site-packages\\sklearn\\linear_model\\logistic.py:432 FutureWarning: Default solver will be changed to 'lbfgs' in 0.22. Specify a solver to silence this warning.\n",
      "C:\\Users\\taylankabbani2019\\AppData\\Local\\Continuum\\anaconda3\\lib\\site-packages\\sklearn\\linear_model\\logistic.py:432 FutureWarning: Default solver will be changed to 'lbfgs' in 0.22. Specify a solver to silence this warning.\n",
      "C:\\Users\\taylankabbani2019\\AppData\\Local\\Continuum\\anaconda3\\lib\\site-packages\\sklearn\\linear_model\\logistic.py:432 FutureWarning: Default solver will be changed to 'lbfgs' in 0.22. Specify a solver to silence this warning.\n",
      "C:\\Users\\taylankabbani2019\\AppData\\Local\\Continuum\\anaconda3\\lib\\site-packages\\sklearn\\linear_model\\logistic.py:432 FutureWarning: Default solver will be changed to 'lbfgs' in 0.22. Specify a solver to silence this warning.\n",
      "C:\\Users\\taylankabbani2019\\AppData\\Local\\Continuum\\anaconda3\\lib\\site-packages\\sklearn\\linear_model\\logistic.py:432 FutureWarning: Default solver will be changed to 'lbfgs' in 0.22. Specify a solver to silence this warning.\n",
      "C:\\Users\\taylankabbani2019\\AppData\\Local\\Continuum\\anaconda3\\lib\\site-packages\\sklearn\\linear_model\\logistic.py:432 FutureWarning: Default solver will be changed to 'lbfgs' in 0.22. Specify a solver to silence this warning.\n"
     ]
    },
    {
     "name": "stdout",
     "output_type": "stream",
     "text": [
      "kfold test: [0.6        0.6        0.75       0.75       0.75       0.75\n",
      " 0.75       0.75       0.66666667 0.66666667]\n",
      "mean: 0.70333\n",
      "std: 0.06092\n"
     ]
    }
   ],
   "source": [
    "pipe = Pipeline([\n",
    "            ('dy', diff_pipe),\n",
    "            ('vect', DictVectorizer(sparse=False)),\n",
    "            ('clf', LogisticRegression(C=0.3e-6, random_state=43))\n",
    "        ])\n",
    "\n",
    "scores = cross_val_score(pipe, rx_boundaries, y, cv=s_cv, n_jobs=1, scoring='accuracy')\n",
    "print('kfold test: {}'.format(scores))\n",
    "print('mean: {}'.format(scores.mean().round(5)))\n",
    "print('std: {}'.format(scores.std().round(5)))"
   ]
  }
 ],
 "metadata": {
  "kernelspec": {
   "display_name": "Python 3",
   "language": "python",
   "name": "python3"
  },
  "language_info": {
   "codemirror_mode": {
    "name": "ipython",
    "version": 3
   },
   "file_extension": ".py",
   "mimetype": "text/x-python",
   "name": "python",
   "nbconvert_exporter": "python",
   "pygments_lexer": "ipython3",
   "version": "3.7.4"
  }
 },
 "nbformat": 4,
 "nbformat_minor": 2
}
